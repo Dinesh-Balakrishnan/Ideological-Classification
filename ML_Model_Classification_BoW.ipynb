{
  "nbformat": 4,
  "nbformat_minor": 0,
  "metadata": {
    "colab": {
      "name": "ML Model Classification_BoW.ipynb",
      "provenance": [],
      "collapsed_sections": [],
      "toc_visible": true
    },
    "kernelspec": {
      "name": "python3",
      "display_name": "Python 3"
    }
  },
  "cells": [
    {
      "cell_type": "markdown",
      "metadata": {
        "id": "_RthWZQtUJIP",
        "colab_type": "text"
      },
      "source": [
        "# Model Classification: Bag of Words\n",
        "\n",
        "----\n",
        "\n",
        "## Dataset Preprocessing\n",
        "\n",
        "### Importing the Dataset"
      ]
    },
    {
      "cell_type": "code",
      "metadata": {
        "id": "4lw6BV9TUW8M",
        "colab_type": "code",
        "colab": {}
      },
      "source": [
        "import pickle\n",
        "[lib, con, neutral] = pickle.load(open('ibcData.pkl', 'rb'))\n",
        "\n",
        "lib = [sentence.get_words() for sentence in lib]\n",
        "con = [sentence.get_words() for sentence in con]\n",
        "\n",
        "reviews = lib + con\n",
        "positions = [0]*len(lib) + [1]*len(con)"
      ],
      "execution_count": 1,
      "outputs": []
    },
    {
      "cell_type": "markdown",
      "metadata": {
        "id": "PQikZPrbUky-",
        "colab_type": "text"
      },
      "source": [
        "### Library Imports"
      ]
    },
    {
      "cell_type": "code",
      "metadata": {
        "id": "zdeSf-fmUbGT",
        "colab_type": "code",
        "colab": {
          "base_uri": "https://localhost:8080/",
          "height": 52
        },
        "outputId": "28612737-dad2-4bb6-c9ee-490426a7c451"
      },
      "source": [
        "# Default Imports\n",
        "import numpy as np\n",
        "import matplotlib.pyplot as plt\n",
        "import pandas as pd\n",
        "\n",
        "# Word Tokenizing Imports\n",
        "from nltk.stem.porter import PorterStemmer\n",
        "from sklearn.feature_extraction.text import CountVectorizer\n",
        "\n",
        "# Model Evaluation Imports\n",
        "from sklearn.metrics import confusion_matrix, accuracy_score, f1_score\n",
        "\n",
        "\n",
        "# 'stopwords' Library Import\n",
        "from re import sub\n",
        "import nltk\n",
        "nltk.download('stopwords')\n",
        "from nltk.corpus import stopwords"
      ],
      "execution_count": 2,
      "outputs": [
        {
          "output_type": "stream",
          "text": [
            "[nltk_data] Downloading package stopwords to /root/nltk_data...\n",
            "[nltk_data]   Package stopwords is already up-to-date!\n"
          ],
          "name": "stdout"
        }
      ]
    },
    {
      "cell_type": "markdown",
      "metadata": {
        "id": "88yDIiYVU2eO",
        "colab_type": "text"
      },
      "source": [
        "### Creating the Bag of Words"
      ]
    },
    {
      "cell_type": "code",
      "metadata": {
        "id": "vjjqm6CmU1QQ",
        "colab_type": "code",
        "colab": {}
      },
      "source": [
        "# Initializing Stopwords list\n",
        "ignored_words = set(stopwords.words('english'))\n",
        "ignored_words.remove('not')\n",
        "\n",
        "# Initializing the tokenizing classes.\n",
        "stemmer = PorterStemmer()\n",
        "vectorizer = CountVectorizer()\n",
        "corpus = []\n",
        "\n",
        "for review in reviews:\n",
        "    # Standardizing character range to a-z.\n",
        "    review = review.lower()\n",
        "    review = sub('[^a-z]', ' ', review)\n",
        "\n",
        "    # Removing less valuable words: the 'stopwords'\n",
        "    review = review.split()\n",
        "    review = [stemmer.stem(word) for word in review if not word in ignored_words]\n",
        "    review = ' '.join(review)\n",
        "    \n",
        "    corpus.append(review)\n",
        "\n",
        "# Creating X and y\n",
        "X = vectorizer.fit_transform(corpus).toarray()\n",
        "y = positions"
      ],
      "execution_count": 3,
      "outputs": []
    },
    {
      "cell_type": "markdown",
      "metadata": {
        "id": "KoUhjY0SWTtv",
        "colab_type": "text"
      },
      "source": [
        "### Creating Training & Testing Values"
      ]
    },
    {
      "cell_type": "code",
      "metadata": {
        "id": "WzHcQVyeWK4J",
        "colab_type": "code",
        "colab": {}
      },
      "source": [
        "X = np.array(X)\n",
        "y = np.array(y)\n",
        "\n",
        "from sklearn.model_selection import train_test_split\n",
        "X_train, X_test, y_train, y_test = train_test_split(X, y, test_size = 0.15, random_state = 0)"
      ],
      "execution_count": 4,
      "outputs": []
    },
    {
      "cell_type": "markdown",
      "metadata": {
        "id": "HhJTf7Q5WfVP",
        "colab_type": "text"
      },
      "source": [
        "----\n",
        "\n",
        "## Running ML Models (Reference)\n",
        "\n",
        "### Gaussian Naive Bayes"
      ]
    },
    {
      "cell_type": "code",
      "metadata": {
        "id": "GLc_guRRWgpB",
        "colab_type": "code",
        "colab": {
          "base_uri": "https://localhost:8080/",
          "height": 87
        },
        "outputId": "6712be48-4a0d-44f4-cc53-c4c0cbe7eb69"
      },
      "source": [
        "from sklearn.naive_bayes import GaussianNB\n",
        "classifier = GaussianNB()\n",
        "classifier.fit(X_train, y_train)\n",
        "\n",
        "y_pred = classifier.predict(X_test)\n",
        "\n",
        "print(confusion_matrix(y_test, y_pred))\n",
        "print(accuracy_score(y_test, y_pred))\n",
        "print(f1_score(y_test, y_pred))"
      ],
      "execution_count": null,
      "outputs": [
        {
          "output_type": "stream",
          "text": [
            "[[130 193]\n",
            " [ 79 157]]\n",
            "0.5134168157423972\n",
            "0.5358361774744027\n"
          ],
          "name": "stdout"
        }
      ]
    },
    {
      "cell_type": "markdown",
      "metadata": {
        "id": "h0VqrI9G2XGX",
        "colab_type": "text"
      },
      "source": [
        "### K-Neighbors"
      ]
    },
    {
      "cell_type": "code",
      "metadata": {
        "id": "36dvpOpW2ARm",
        "colab_type": "code",
        "colab": {
          "base_uri": "https://localhost:8080/",
          "height": 87
        },
        "outputId": "0bcd4287-d4f4-4b3d-c430-b634c89ab88a"
      },
      "source": [
        "from sklearn.neighbors import KNeighborsClassifier\n",
        "classifier = KNeighborsClassifier(n_neighbors = 5, metric = 'minkowski', p = 2)\n",
        "classifier.fit(X_train, y_train)\n",
        "\n",
        "y_pred = classifier.predict(X_test)\n",
        "\n",
        "print(confusion_matrix(y_test, y_pred))\n",
        "print(accuracy_score(y_test, y_pred))\n",
        "print(f1_score(y_test, y_pred))"
      ],
      "execution_count": null,
      "outputs": [
        {
          "output_type": "stream",
          "text": [
            "[[274  49]\n",
            " [185  51]]\n",
            "0.5813953488372093\n",
            "0.3035714285714286\n"
          ],
          "name": "stdout"
        }
      ]
    },
    {
      "cell_type": "markdown",
      "metadata": {
        "id": "HpMM8-Za2YCN",
        "colab_type": "text"
      },
      "source": [
        "### Random Forest"
      ]
    },
    {
      "cell_type": "code",
      "metadata": {
        "id": "-sFTSTgZ2D-t",
        "colab_type": "code",
        "colab": {
          "base_uri": "https://localhost:8080/",
          "height": 87
        },
        "outputId": "0db66c93-565e-40df-ec39-a72169714937"
      },
      "source": [
        "from sklearn.ensemble import RandomForestClassifier\n",
        "classifier = RandomForestClassifier(n_estimators = 10, criterion = 'entropy', random_state = 0)\n",
        "classifier.fit(X_train, y_train)\n",
        "\n",
        "y_pred = classifier.predict(X_test)\n",
        "\n",
        "print(confusion_matrix(y_test, y_pred))\n",
        "print(accuracy_score(y_test, y_pred))\n",
        "print(f1_score(y_test, y_pred))"
      ],
      "execution_count": null,
      "outputs": [
        {
          "output_type": "stream",
          "text": [
            "[[235  88]\n",
            " [128 108]]\n",
            "0.6135957066189625\n",
            "0.4999999999999999\n"
          ],
          "name": "stdout"
        }
      ]
    },
    {
      "cell_type": "markdown",
      "metadata": {
        "id": "avAV3pf72Z8a",
        "colab_type": "text"
      },
      "source": [
        "### Suport Vector Machine"
      ]
    },
    {
      "cell_type": "code",
      "metadata": {
        "id": "K8wMJs3f2GB1",
        "colab_type": "code",
        "colab": {
          "base_uri": "https://localhost:8080/",
          "height": 87
        },
        "outputId": "3b269069-3ff8-4132-fdeb-baee3ed83616"
      },
      "source": [
        "from sklearn.svm import SVC\n",
        "classifier = SVC(kernel = 'rbf', random_state = 0)\n",
        "classifier.fit(X_train, y_train)\n",
        "\n",
        "y_pred = classifier.predict(X_test)\n",
        "\n",
        "print(confusion_matrix(y_test, y_pred))\n",
        "print(accuracy_score(y_test, y_pred))\n",
        "print(f1_score(y_test, y_pred))"
      ],
      "execution_count": null,
      "outputs": [
        {
          "output_type": "stream",
          "text": [
            "[[247  76]\n",
            " [103 133]]\n",
            "0.6797853309481217\n",
            "0.597752808988764\n"
          ],
          "name": "stdout"
        }
      ]
    },
    {
      "cell_type": "markdown",
      "metadata": {
        "id": "Q7r3vGP52gMq",
        "colab_type": "text"
      },
      "source": [
        "### Extreme Gradient Boosting"
      ]
    },
    {
      "cell_type": "code",
      "metadata": {
        "id": "IYd309V42ufL",
        "colab_type": "code",
        "colab": {
          "base_uri": "https://localhost:8080/",
          "height": 87
        },
        "outputId": "f30c67c5-3732-4a9a-eab7-4f9724a8f991"
      },
      "source": [
        "from xgboost import XGBClassifier\n",
        "classifier = XGBClassifier(n_estimators = 300, random_state = 0)\n",
        "classifier.fit(X_train, y_train)\n",
        "\n",
        "y_pred = classifier.predict(X_test)\n",
        "\n",
        "print(confusion_matrix(y_test, y_pred))\n",
        "print(accuracy_score(y_test, y_pred))\n",
        "print(f1_score(y_test, y_pred))"
      ],
      "execution_count": null,
      "outputs": [
        {
          "output_type": "stream",
          "text": [
            "[[241  82]\n",
            " [117 119]]\n",
            "0.6440071556350626\n",
            "0.5446224256292905\n"
          ],
          "name": "stdout"
        }
      ]
    },
    {
      "cell_type": "markdown",
      "metadata": {
        "id": "tXjcveeTF7qW",
        "colab_type": "text"
      },
      "source": [
        "**Model With Best Accuracy:** SVM at 68%"
      ]
    }
  ]
}