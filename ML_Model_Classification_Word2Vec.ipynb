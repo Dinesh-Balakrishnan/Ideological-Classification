{
  "nbformat": 4,
  "nbformat_minor": 0,
  "metadata": {
    "colab": {
      "name": "ML Model Classification_Word2Vec",
      "provenance": [],
      "toc_visible": true
    },
    "kernelspec": {
      "name": "python3",
      "display_name": "Python 3"
    }
  },
  "cells": [
    {
      "cell_type": "markdown",
      "metadata": {
        "id": "_RthWZQtUJIP",
        "colab_type": "text"
      },
      "source": [
        "# Model Classification: Word 2 Vector\n",
        "\n",
        "----\n",
        "\n",
        "## Dataset Preprocessing\n",
        "\n",
        "### Importing the Dataset"
      ]
    },
    {
      "cell_type": "code",
      "metadata": {
        "id": "4lw6BV9TUW8M",
        "colab_type": "code",
        "colab": {}
      },
      "source": [
        "import pickle\n",
        "[lib, con, neutral] = pickle.load(open('ibcData.pkl', 'rb'))\n",
        "\n",
        "lib = [sentence.get_words() for sentence in lib]\n",
        "con = [sentence.get_words() for sentence in con]\n",
        "\n",
        "reviews = lib + con\n",
        "positions = [0]*len(lib) + [1]*len(con)"
      ],
      "execution_count": 1,
      "outputs": []
    },
    {
      "cell_type": "markdown",
      "metadata": {
        "id": "PQikZPrbUky-",
        "colab_type": "text"
      },
      "source": [
        "### Library Imports"
      ]
    },
    {
      "cell_type": "code",
      "metadata": {
        "id": "zdeSf-fmUbGT",
        "colab_type": "code",
        "colab": {
          "base_uri": "https://localhost:8080/",
          "height": 52
        },
        "outputId": "a83feeae-7468-4f54-b49a-badcf3249dce"
      },
      "source": [
        "# Default Imports\n",
        "import numpy as np\n",
        "import matplotlib.pyplot as plt\n",
        "import pandas as pd\n",
        "import tensorflow as tf\n",
        "\n",
        "# Word Tokenizing Imports\n",
        "from tensorflow.keras.preprocessing.text import Tokenizer\n",
        "from tensorflow.keras.preprocessing.sequence import pad_sequences\n",
        "from nltk.stem.porter import PorterStemmer\n",
        "\n",
        "# Model Evaluation Imports\n",
        "from sklearn.metrics import confusion_matrix, accuracy_score, f1_score\n",
        "\n",
        "# 'stopwords' Library Import\n",
        "from re import sub\n",
        "import nltk\n",
        "nltk.download('stopwords')\n",
        "from nltk.corpus import stopwords"
      ],
      "execution_count": 2,
      "outputs": [
        {
          "output_type": "stream",
          "text": [
            "[nltk_data] Downloading package stopwords to /root/nltk_data...\n",
            "[nltk_data]   Unzipping corpora/stopwords.zip.\n"
          ],
          "name": "stdout"
        }
      ]
    },
    {
      "cell_type": "markdown",
      "metadata": {
        "id": "88yDIiYVU2eO",
        "colab_type": "text"
      },
      "source": [
        "### Creating the Word2Vec"
      ]
    },
    {
      "cell_type": "code",
      "metadata": {
        "id": "vjjqm6CmU1QQ",
        "colab_type": "code",
        "colab": {}
      },
      "source": [
        "# Initializing Stopwords list\n",
        "ignored_words = set(stopwords.words('english'))\n",
        "ignored_words.remove('not')\n",
        "\n",
        "# Initializing the tokenizing classes.\n",
        "stemmer = PorterStemmer()\n",
        "tokenizer = Tokenizer(oov_token = '<OOV>')\n",
        "corpus = []\n",
        "\n",
        "for review in reviews:\n",
        "    # Standardizing character range to a-z.\n",
        "    review = review.lower()\n",
        "    review = sub('[^a-z]', ' ', review)\n",
        "\n",
        "    # Removing less valuable words: the 'stopwords'\n",
        "    review = review.split()\n",
        "    review = [stemmer.stem(word) for word in review if not word in ignored_words]\n",
        "    review = ' '.join(review)\n",
        "    \n",
        "    corpus.append(review)\n",
        "\n",
        "\n",
        "tokenizer.fit_on_texts(corpus)\n",
        "X = tokenizer.texts_to_sequences(corpus)\n",
        "X = pad_sequences(X, padding='post')\n",
        "y = positions"
      ],
      "execution_count": 3,
      "outputs": []
    },
    {
      "cell_type": "markdown",
      "metadata": {
        "id": "KoUhjY0SWTtv",
        "colab_type": "text"
      },
      "source": [
        "### Creating Training & Testing Values"
      ]
    },
    {
      "cell_type": "code",
      "metadata": {
        "id": "WzHcQVyeWK4J",
        "colab_type": "code",
        "colab": {}
      },
      "source": [
        "X = np.array(X)\n",
        "y = np.array(y)\n",
        "\n",
        "from sklearn.model_selection import train_test_split\n",
        "X_train, X_test, y_train, y_test = train_test_split(X, y, test_size = 0.15, random_state = 0)"
      ],
      "execution_count": 4,
      "outputs": []
    },
    {
      "cell_type": "markdown",
      "metadata": {
        "id": "HhJTf7Q5WfVP",
        "colab_type": "text"
      },
      "source": [
        "----\n",
        "\n",
        "## Running ML Models (Reference)\n",
        "\n",
        "### Gaussian Naive Bayes"
      ]
    },
    {
      "cell_type": "code",
      "metadata": {
        "id": "GLc_guRRWgpB",
        "colab_type": "code",
        "colab": {
          "base_uri": "https://localhost:8080/",
          "height": 87
        },
        "outputId": "bf220e14-778a-4ba5-967e-e7d78cd0f0d5"
      },
      "source": [
        "from sklearn.naive_bayes import GaussianNB\n",
        "classifier = GaussianNB()\n",
        "classifier.fit(X_train, y_train)\n",
        "\n",
        "y_pred = classifier.predict(X_test)\n",
        "\n",
        "print(confusion_matrix(y_test, y_pred))\n",
        "print(accuracy_score(y_test, y_pred))\n",
        "print(f1_score(y_test, y_pred))"
      ],
      "execution_count": 5,
      "outputs": [
        {
          "output_type": "stream",
          "text": [
            "[[  1 322]\n",
            " [  3 233]]\n",
            "0.4186046511627907\n",
            "0.5891276864728192\n"
          ],
          "name": "stdout"
        }
      ]
    },
    {
      "cell_type": "markdown",
      "metadata": {
        "id": "h0VqrI9G2XGX",
        "colab_type": "text"
      },
      "source": [
        "### K-Neighbors"
      ]
    },
    {
      "cell_type": "code",
      "metadata": {
        "id": "36dvpOpW2ARm",
        "colab_type": "code",
        "colab": {
          "base_uri": "https://localhost:8080/",
          "height": 87
        },
        "outputId": "7d49c737-b493-44a4-9ccb-745b22bafb06"
      },
      "source": [
        "from sklearn.neighbors import KNeighborsClassifier\n",
        "classifier = KNeighborsClassifier(n_neighbors = 5, metric = 'minkowski', p = 2)\n",
        "classifier.fit(X_train, y_train)\n",
        "\n",
        "y_pred = classifier.predict(X_test)\n",
        "\n",
        "print(confusion_matrix(y_test, y_pred))\n",
        "print(accuracy_score(y_test, y_pred))\n",
        "print(f1_score(y_test, y_pred))"
      ],
      "execution_count": 6,
      "outputs": [
        {
          "output_type": "stream",
          "text": [
            "[[216 107]\n",
            " [123 113]]\n",
            "0.5885509838998211\n",
            "0.4956140350877193\n"
          ],
          "name": "stdout"
        }
      ]
    },
    {
      "cell_type": "markdown",
      "metadata": {
        "id": "HpMM8-Za2YCN",
        "colab_type": "text"
      },
      "source": [
        "### Random Forest"
      ]
    },
    {
      "cell_type": "code",
      "metadata": {
        "id": "-sFTSTgZ2D-t",
        "colab_type": "code",
        "colab": {
          "base_uri": "https://localhost:8080/",
          "height": 87
        },
        "outputId": "9a936a47-ff02-4615-ed9c-da7dd5ed9ff7"
      },
      "source": [
        "from sklearn.ensemble import RandomForestClassifier\n",
        "classifier = RandomForestClassifier(n_estimators = 10, criterion = 'entropy', random_state = 0)\n",
        "classifier.fit(X_train, y_train)\n",
        "\n",
        "y_pred = classifier.predict(X_test)\n",
        "\n",
        "print(confusion_matrix(y_test, y_pred))\n",
        "print(accuracy_score(y_test, y_pred))\n",
        "print(f1_score(y_test, y_pred))"
      ],
      "execution_count": 7,
      "outputs": [
        {
          "output_type": "stream",
          "text": [
            "[[279  44]\n",
            " [ 97 139]]\n",
            "0.7477638640429338\n",
            "0.6634844868735084\n"
          ],
          "name": "stdout"
        }
      ]
    },
    {
      "cell_type": "markdown",
      "metadata": {
        "id": "avAV3pf72Z8a",
        "colab_type": "text"
      },
      "source": [
        "### Suport Vector Machine"
      ]
    },
    {
      "cell_type": "code",
      "metadata": {
        "id": "K8wMJs3f2GB1",
        "colab_type": "code",
        "colab": {
          "base_uri": "https://localhost:8080/",
          "height": 87
        },
        "outputId": "043ac446-12f7-4b0b-98f2-04997695c21c"
      },
      "source": [
        "from sklearn.svm import SVC\n",
        "classifier = SVC(kernel = 'rbf', random_state = 0)\n",
        "classifier.fit(X_train, y_train)\n",
        "\n",
        "y_pred = classifier.predict(X_test)\n",
        "\n",
        "print(confusion_matrix(y_test, y_pred))\n",
        "print(accuracy_score(y_test, y_pred))\n",
        "print(f1_score(y_test, y_pred))"
      ],
      "execution_count": 8,
      "outputs": [
        {
          "output_type": "stream",
          "text": [
            "[[267  56]\n",
            " [142  94]]\n",
            "0.6457960644007156\n",
            "0.48704663212435234\n"
          ],
          "name": "stdout"
        }
      ]
    },
    {
      "cell_type": "markdown",
      "metadata": {
        "id": "Q7r3vGP52gMq",
        "colab_type": "text"
      },
      "source": [
        "### Extreme Gradient Boosting"
      ]
    },
    {
      "cell_type": "code",
      "metadata": {
        "id": "IYd309V42ufL",
        "colab_type": "code",
        "colab": {
          "base_uri": "https://localhost:8080/",
          "height": 87
        },
        "outputId": "0d7be717-dee5-46f3-ee8a-0dc776361ccb"
      },
      "source": [
        "from xgboost import XGBClassifier\n",
        "classifier = XGBClassifier(n_estimators = 300, random_state = 0)\n",
        "classifier.fit(X_train, y_train)\n",
        "\n",
        "y_pred = classifier.predict(X_test)\n",
        "\n",
        "print(confusion_matrix(y_test, y_pred))\n",
        "print(accuracy_score(y_test, y_pred))\n",
        "print(f1_score(y_test, y_pred))"
      ],
      "execution_count": 9,
      "outputs": [
        {
          "output_type": "stream",
          "text": [
            "[[305  18]\n",
            " [ 80 156]]\n",
            "0.8246869409660107\n",
            "0.7609756097560976\n"
          ],
          "name": "stdout"
        }
      ]
    },
    {
      "cell_type": "markdown",
      "metadata": {
        "id": "tXjcveeTF7qW",
        "colab_type": "text"
      },
      "source": [
        "**Model With Best Accuracy:** XGBoost at 82%"
      ]
    }
  ]
}