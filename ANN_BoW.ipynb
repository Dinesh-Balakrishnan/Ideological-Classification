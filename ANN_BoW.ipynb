{
  "nbformat": 4,
  "nbformat_minor": 0,
  "metadata": {
    "colab": {
      "name": "ANN_BoW.ipynb",
      "provenance": [],
      "collapsed_sections": []
    },
    "kernelspec": {
      "name": "python3",
      "display_name": "Python 3"
    },
    "accelerator": "GPU"
  },
  "cells": [
    {
      "cell_type": "markdown",
      "metadata": {
        "id": "LJRdq9A6zAvb",
        "colab_type": "text"
      },
      "source": [
        "## ML Model Classification: Word 2 Vector\n",
        "\n",
        "----\n",
        "\n",
        "## Dataset Preprocessing\n",
        "\n",
        "### Importing the Dataset"
      ]
    },
    {
      "cell_type": "code",
      "metadata": {
        "id": "4lw6BV9TUW8M",
        "colab_type": "code",
        "colab": {}
      },
      "source": [
        "import pickle\n",
        "[lib, con, neutral] = pickle.load(open('ibcData.pkl', 'rb'))\n",
        "\n",
        "lib = [sentence.get_words() for sentence in lib]\n",
        "con = [sentence.get_words() for sentence in con]\n",
        "\n",
        "reviews = lib + con\n",
        "positions = [0]*len(lib) + [1]*len(con)"
      ],
      "execution_count": 6,
      "outputs": []
    },
    {
      "cell_type": "markdown",
      "metadata": {
        "id": "HIV4DRGuyJc0",
        "colab_type": "text"
      },
      "source": [
        "### Library Imports"
      ]
    },
    {
      "cell_type": "code",
      "metadata": {
        "id": "zdeSf-fmUbGT",
        "colab_type": "code",
        "colab": {
          "base_uri": "https://localhost:8080/",
          "height": 52
        },
        "outputId": "8f639de1-854d-4094-f846-4ba32ad7c044"
      },
      "source": [
        "# Default Imports\n",
        "import numpy as np\n",
        "import matplotlib.pyplot as plt\n",
        "import pandas as pd\n",
        "import tensorflow as tf\n",
        "\n",
        "# Word Tokenizing Imports\n",
        "from nltk.stem.porter import PorterStemmer\n",
        "from sklearn.feature_extraction.text import CountVectorizer\n",
        "\n",
        "# Model Evaluation Imports\n",
        "from sklearn.metrics import confusion_matrix, accuracy_score, f1_score\n",
        "\n",
        "\n",
        "# 'stopwords' Library Import\n",
        "from re import sub\n",
        "import nltk\n",
        "nltk.download('stopwords')\n",
        "from nltk.corpus import stopwords"
      ],
      "execution_count": 7,
      "outputs": [
        {
          "output_type": "stream",
          "text": [
            "[nltk_data] Downloading package stopwords to /root/nltk_data...\n",
            "[nltk_data]   Package stopwords is already up-to-date!\n"
          ],
          "name": "stdout"
        }
      ]
    },
    {
      "cell_type": "markdown",
      "metadata": {
        "id": "88yDIiYVU2eO",
        "colab_type": "text"
      },
      "source": [
        "### Creating the Bag of Words"
      ]
    },
    {
      "cell_type": "code",
      "metadata": {
        "id": "vjjqm6CmU1QQ",
        "colab_type": "code",
        "colab": {}
      },
      "source": [
        "# Initializing Stopwords list\n",
        "ignored_words = set(stopwords.words('english'))\n",
        "ignored_words.remove('not')\n",
        "\n",
        "# Initializing the tokenizing classes.\n",
        "stemmer = PorterStemmer()\n",
        "vectorizer = CountVectorizer()\n",
        "corpus = []\n",
        "\n",
        "for review in reviews:\n",
        "    # Standardizing character range to a-z.\n",
        "    review = review.lower()\n",
        "    review = sub('[^a-z]', ' ', review)\n",
        "\n",
        "    # Removing less valuable words: the 'stopwords'\n",
        "    review = review.split()\n",
        "    review = [stemmer.stem(word) for word in review if not word in ignored_words]\n",
        "    review = ' '.join(review)\n",
        "    \n",
        "    corpus.append(review)\n",
        "\n",
        "# Creating X and y\n",
        "X = vectorizer.fit_transform(corpus).toarray()\n",
        "y = positions"
      ],
      "execution_count": 8,
      "outputs": []
    },
    {
      "cell_type": "markdown",
      "metadata": {
        "id": "KoUhjY0SWTtv",
        "colab_type": "text"
      },
      "source": [
        "### Creating Training & Testing Values"
      ]
    },
    {
      "cell_type": "code",
      "metadata": {
        "id": "WzHcQVyeWK4J",
        "colab_type": "code",
        "colab": {}
      },
      "source": [
        "X = np.array(X)\n",
        "y = np.array(y)\n",
        "\n",
        "from sklearn.model_selection import train_test_split\n",
        "X_train, X_test, y_train, y_test = train_test_split(X, y, test_size = 0.15, random_state = 0)"
      ],
      "execution_count": 9,
      "outputs": []
    },
    {
      "cell_type": "markdown",
      "metadata": {
        "id": "2P84HtWJGRjA",
        "colab_type": "text"
      },
      "source": [
        "----\n",
        "\n",
        "# Models\n",
        "\n",
        "## Linear Classification"
      ]
    },
    {
      "cell_type": "code",
      "metadata": {
        "id": "fsDdreNSiXhI",
        "colab_type": "code",
        "colab": {
          "base_uri": "https://localhost:8080/",
          "height": 562
        },
        "outputId": "eacb3802-f5e0-49c4-9131-4bd5daa827ce"
      },
      "source": [
        "model = tf.keras.models.Sequential([\n",
        "    tf.keras.layers.Dense(1, activation = 'relu', input_shape = [8260])\n",
        "])\n",
        "\n",
        "model.summary()\n",
        " \n",
        "model.compile(optimizer = 'adam', loss = 'binary_crossentropy', metrics = ['accuracy'])\n",
        "model.fit(X_train, y_train, epochs = 10)"
      ],
      "execution_count": 10,
      "outputs": [
        {
          "output_type": "stream",
          "text": [
            "Model: \"sequential\"\n",
            "_________________________________________________________________\n",
            "Layer (type)                 Output Shape              Param #   \n",
            "=================================================================\n",
            "dense (Dense)                (None, 1)                 8261      \n",
            "=================================================================\n",
            "Total params: 8,261\n",
            "Trainable params: 8,261\n",
            "Non-trainable params: 0\n",
            "_________________________________________________________________\n",
            "Epoch 1/10\n",
            "99/99 [==============================] - 0s 3ms/step - loss: 1.3540 - accuracy: 0.5339\n",
            "Epoch 2/10\n",
            "99/99 [==============================] - 0s 3ms/step - loss: 0.6798 - accuracy: 0.5845\n",
            "Epoch 3/10\n",
            "99/99 [==============================] - 0s 3ms/step - loss: 0.5935 - accuracy: 0.6606\n",
            "Epoch 4/10\n",
            "99/99 [==============================] - 0s 3ms/step - loss: 0.5274 - accuracy: 0.7168\n",
            "Epoch 5/10\n",
            "99/99 [==============================] - 0s 3ms/step - loss: 0.4715 - accuracy: 0.7701\n",
            "Epoch 6/10\n",
            "99/99 [==============================] - 0s 3ms/step - loss: 0.4254 - accuracy: 0.8055\n",
            "Epoch 7/10\n",
            "99/99 [==============================] - 0s 3ms/step - loss: 0.3855 - accuracy: 0.8358\n",
            "Epoch 8/10\n",
            "99/99 [==============================] - 0s 3ms/step - loss: 0.3519 - accuracy: 0.8595\n",
            "Epoch 9/10\n",
            "99/99 [==============================] - 0s 3ms/step - loss: 0.3223 - accuracy: 0.8759\n",
            "Epoch 10/10\n",
            "99/99 [==============================] - 0s 3ms/step - loss: 0.2969 - accuracy: 0.8933\n"
          ],
          "name": "stdout"
        },
        {
          "output_type": "execute_result",
          "data": {
            "text/plain": [
              "<tensorflow.python.keras.callbacks.History at 0x7fa5b04aa6a0>"
            ]
          },
          "metadata": {
            "tags": []
          },
          "execution_count": 10
        }
      ]
    },
    {
      "cell_type": "code",
      "metadata": {
        "id": "-t2Sr6O5x6xu",
        "colab_type": "code",
        "colab": {
          "base_uri": "https://localhost:8080/",
          "height": 87
        },
        "outputId": "620f79af-2f57-4b18-836e-f64ba1e93617"
      },
      "source": [
        "predictions = [round(value[0]) for value in model.predict(X_test)]\n",
        "print(accuracy_score(predictions, y_test))\n",
        "print(f1_score(predictions, y_test))\n",
        "print(confusion_matrix(predictions, y_test))"
      ],
      "execution_count": 11,
      "outputs": [
        {
          "output_type": "stream",
          "text": [
            "0.5957066189624329\n",
            "0.47926267281105994\n",
            "[[229 132]\n",
            " [ 94 104]]\n"
          ],
          "name": "stdout"
        }
      ]
    },
    {
      "cell_type": "markdown",
      "metadata": {
        "id": "vi5MP6tEz2fb",
        "colab_type": "text"
      },
      "source": [
        "### Additional Dense Layer"
      ]
    },
    {
      "cell_type": "code",
      "metadata": {
        "colab_type": "code",
        "id": "WP_8xIqGzyFG",
        "colab": {
          "base_uri": "https://localhost:8080/",
          "height": 635
        },
        "outputId": "ac280fd0-1949-454a-8b60-63b37d1ebe3f"
      },
      "source": [
        "model = tf.keras.models.Sequential([\n",
        "    tf.keras.layers.Dense(8260, activation = 'relu', input_shape = [8260]),\n",
        "    tf.keras.layers.Dense(1, activation = 'sigmoid')\n",
        "])\n",
        "\n",
        "model.summary()\n",
        "\n",
        "model.compile(optimizer = 'adam', loss = 'binary_crossentropy', metrics = ['accuracy'])\n",
        "model.fit(X_train, y_train, epochs = 10)"
      ],
      "execution_count": 13,
      "outputs": [
        {
          "output_type": "stream",
          "text": [
            "Model: \"sequential_1\"\n",
            "_________________________________________________________________\n",
            "Layer (type)                 Output Shape              Param #   \n",
            "=================================================================\n",
            "dense_1 (Dense)              (None, 8260)              68235860  \n",
            "_________________________________________________________________\n",
            "dense_2 (Dense)              (None, 1)                 8261      \n",
            "=================================================================\n",
            "Total params: 68,244,121\n",
            "Trainable params: 68,244,121\n",
            "Non-trainable params: 0\n",
            "_________________________________________________________________\n",
            "Epoch 1/10\n",
            " 1/99 [..............................] - ETA: 1s - loss: 0.6975 - accuracy: 0.3750WARNING:tensorflow:Callbacks method `on_train_batch_end` is slow compared to the batch time (batch time: 0.0044s vs `on_train_batch_end` time: 0.0127s). Check your callbacks.\n",
            "99/99 [==============================] - 2s 16ms/step - loss: 0.6540 - accuracy: 0.6198\n",
            "Epoch 2/10\n",
            "99/99 [==============================] - 2s 16ms/step - loss: 0.1824 - accuracy: 0.9460\n",
            "Epoch 3/10\n",
            "99/99 [==============================] - 2s 16ms/step - loss: 0.0563 - accuracy: 0.9883\n",
            "Epoch 4/10\n",
            "99/99 [==============================] - 2s 16ms/step - loss: 0.0262 - accuracy: 0.9931\n",
            "Epoch 5/10\n",
            "99/99 [==============================] - 2s 16ms/step - loss: 0.0277 - accuracy: 0.9915\n",
            "Epoch 6/10\n",
            "99/99 [==============================] - 2s 16ms/step - loss: 0.0231 - accuracy: 0.9924\n",
            "Epoch 7/10\n",
            "99/99 [==============================] - 2s 16ms/step - loss: 0.0275 - accuracy: 0.9915\n",
            "Epoch 8/10\n",
            "99/99 [==============================] - 2s 16ms/step - loss: 0.0277 - accuracy: 0.9915\n",
            "Epoch 9/10\n",
            "99/99 [==============================] - 2s 16ms/step - loss: 0.0197 - accuracy: 0.9934\n",
            "Epoch 10/10\n",
            "99/99 [==============================] - 2s 16ms/step - loss: 0.0219 - accuracy: 0.9931\n"
          ],
          "name": "stdout"
        },
        {
          "output_type": "execute_result",
          "data": {
            "text/plain": [
              "<tensorflow.python.keras.callbacks.History at 0x7fa54a795f98>"
            ]
          },
          "metadata": {
            "tags": []
          },
          "execution_count": 13
        }
      ]
    },
    {
      "cell_type": "code",
      "metadata": {
        "colab_type": "code",
        "id": "rawh3rlOzyFJ",
        "colab": {
          "base_uri": "https://localhost:8080/",
          "height": 87
        },
        "outputId": "a7d4ef18-d0fb-4669-ed81-b4ee49e6017d"
      },
      "source": [
        "predictions = [round(value[0]) for value in model.predict(X_test)]\n",
        "print(accuracy_score(predictions, y_test))\n",
        "print(f1_score(predictions, y_test))\n",
        "print(confusion_matrix(predictions, y_test))"
      ],
      "execution_count": 14,
      "outputs": [
        {
          "output_type": "stream",
          "text": [
            "0.6225402504472272\n",
            "0.5422993492407809\n",
            "[[223 111]\n",
            " [100 125]]\n"
          ],
          "name": "stdout"
        }
      ]
    },
    {
      "cell_type": "markdown",
      "metadata": {
        "id": "ZsWDc5G9080C",
        "colab_type": "text"
      },
      "source": [
        "### 2 Additional Dense Layers"
      ]
    },
    {
      "cell_type": "code",
      "metadata": {
        "colab_type": "code",
        "id": "_C8hwhKz04kT",
        "colab": {
          "base_uri": "https://localhost:8080/",
          "height": 670
        },
        "outputId": "72350cb0-4f48-4e44-fc45-e2be83b05379"
      },
      "source": [
        "model = tf.keras.models.Sequential([\n",
        "    tf.keras.layers.Dense(8260, activation = 'relu', input_shape = [8260]),\n",
        "    tf.keras.layers.Dense(8260, activation = 'relu'),\n",
        "    tf.keras.layers.Dense(1, activation='sigmoid')\n",
        "])\n",
        "\n",
        "model.summary()\n",
        "\n",
        "model.compile(optimizer = 'adam', loss = 'binary_crossentropy', metrics = ['accuracy'])\n",
        "model.fit(X_train, y_train, epochs = 10)"
      ],
      "execution_count": 21,
      "outputs": [
        {
          "output_type": "stream",
          "text": [
            "Model: \"sequential_4\"\n",
            "_________________________________________________________________\n",
            "Layer (type)                 Output Shape              Param #   \n",
            "=================================================================\n",
            "dense_10 (Dense)             (None, 8260)              68235860  \n",
            "_________________________________________________________________\n",
            "dense_11 (Dense)             (None, 8260)              68235860  \n",
            "_________________________________________________________________\n",
            "dense_12 (Dense)             (None, 1)                 8261      \n",
            "=================================================================\n",
            "Total params: 136,479,981\n",
            "Trainable params: 136,479,981\n",
            "Non-trainable params: 0\n",
            "_________________________________________________________________\n",
            "Epoch 1/10\n",
            " 1/99 [..............................] - ETA: 2s - loss: 0.6861 - accuracy: 0.7812WARNING:tensorflow:Callbacks method `on_train_batch_end` is slow compared to the batch time (batch time: 0.0091s vs `on_train_batch_end` time: 0.0273s). Check your callbacks.\n",
            "99/99 [==============================] - 3s 31ms/step - loss: 0.6894 - accuracy: 0.6028\n",
            "Epoch 2/10\n",
            "99/99 [==============================] - 3s 31ms/step - loss: 0.2324 - accuracy: 0.9230\n",
            "Epoch 3/10\n",
            "99/99 [==============================] - 3s 31ms/step - loss: 0.0569 - accuracy: 0.9861\n",
            "Epoch 4/10\n",
            "99/99 [==============================] - 3s 31ms/step - loss: 0.0215 - accuracy: 0.9927\n",
            "Epoch 5/10\n",
            "99/99 [==============================] - 3s 31ms/step - loss: 0.0137 - accuracy: 0.9934\n",
            "Epoch 6/10\n",
            "99/99 [==============================] - 3s 31ms/step - loss: 0.0112 - accuracy: 0.9924\n",
            "Epoch 7/10\n",
            "99/99 [==============================] - 3s 31ms/step - loss: 0.0099 - accuracy: 0.9931\n",
            "Epoch 8/10\n",
            "99/99 [==============================] - 3s 31ms/step - loss: 0.0088 - accuracy: 0.9931\n",
            "Epoch 9/10\n",
            "99/99 [==============================] - 3s 31ms/step - loss: 0.0082 - accuracy: 0.9927\n",
            "Epoch 10/10\n",
            "99/99 [==============================] - 3s 31ms/step - loss: 0.0085 - accuracy: 0.9924\n"
          ],
          "name": "stdout"
        },
        {
          "output_type": "execute_result",
          "data": {
            "text/plain": [
              "<tensorflow.python.keras.callbacks.History at 0x7fa54a2027b8>"
            ]
          },
          "metadata": {
            "tags": []
          },
          "execution_count": 21
        }
      ]
    },
    {
      "cell_type": "code",
      "metadata": {
        "colab_type": "code",
        "id": "8ZbZVRQU04kW",
        "colab": {
          "base_uri": "https://localhost:8080/",
          "height": 87
        },
        "outputId": "42c90815-4bb9-475b-9e32-5306db931e75"
      },
      "source": [
        "predictions = [round(value[0]) for value in model.predict(X_test)]\n",
        "print(accuracy_score(predictions, y_test))\n",
        "print(f1_score(predictions, y_test))\n",
        "print(confusion_matrix(predictions, y_test))"
      ],
      "execution_count": 22,
      "outputs": [
        {
          "output_type": "stream",
          "text": [
            "0.631484794275492\n",
            "0.5339366515837104\n",
            "[[235 118]\n",
            " [ 88 118]]\n"
          ],
          "name": "stdout"
        }
      ]
    },
    {
      "cell_type": "markdown",
      "metadata": {
        "id": "1fF2PtaJ1yEo",
        "colab_type": "text"
      },
      "source": [
        "### Halving Nodes in 2nd Layer"
      ]
    },
    {
      "cell_type": "code",
      "metadata": {
        "colab_type": "code",
        "id": "5aPfTvqN3x8d",
        "colab": {
          "base_uri": "https://localhost:8080/",
          "height": 670
        },
        "outputId": "a1530f76-ec11-4aca-8350-a62bf2130d68"
      },
      "source": [
        "model = tf.keras.models.Sequential([\n",
        "    tf.keras.layers.Dense(8260, activation = 'relu', input_shape = [8260]),\n",
        "    tf.keras.layers.Dense(4130, activation = 'relu'),\n",
        "    tf.keras.layers.Dense(1, activation='sigmoid')\n",
        "])\n",
        "\n",
        "model.summary()\n",
        "\n",
        "model.compile(optimizer = 'adam', loss = 'binary_crossentropy', metrics = ['accuracy'])\n",
        "model.fit(X_train, y_train, epochs = 10)"
      ],
      "execution_count": 23,
      "outputs": [
        {
          "output_type": "stream",
          "text": [
            "Model: \"sequential_5\"\n",
            "_________________________________________________________________\n",
            "Layer (type)                 Output Shape              Param #   \n",
            "=================================================================\n",
            "dense_13 (Dense)             (None, 8260)              68235860  \n",
            "_________________________________________________________________\n",
            "dense_14 (Dense)             (None, 4130)              34117930  \n",
            "_________________________________________________________________\n",
            "dense_15 (Dense)             (None, 1)                 4131      \n",
            "=================================================================\n",
            "Total params: 102,357,921\n",
            "Trainable params: 102,357,921\n",
            "Non-trainable params: 0\n",
            "_________________________________________________________________\n",
            "Epoch 1/10\n",
            " 1/99 [..............................] - ETA: 1s - loss: 0.6943 - accuracy: 0.4688WARNING:tensorflow:Callbacks method `on_train_batch_end` is slow compared to the batch time (batch time: 0.0089s vs `on_train_batch_end` time: 0.0199s). Check your callbacks.\n",
            "99/99 [==============================] - 2s 24ms/step - loss: 0.6764 - accuracy: 0.6157\n",
            "Epoch 2/10\n",
            "99/99 [==============================] - 2s 24ms/step - loss: 0.1611 - accuracy: 0.9514\n",
            "Epoch 3/10\n",
            "99/99 [==============================] - 2s 24ms/step - loss: 0.0642 - accuracy: 0.9877\n",
            "Epoch 4/10\n",
            "99/99 [==============================] - 2s 24ms/step - loss: 0.0248 - accuracy: 0.9915\n",
            "Epoch 5/10\n",
            "99/99 [==============================] - 2s 24ms/step - loss: 0.0117 - accuracy: 0.9921\n",
            "Epoch 6/10\n",
            "99/99 [==============================] - 2s 24ms/step - loss: 0.0092 - accuracy: 0.9924\n",
            "Epoch 7/10\n",
            "99/99 [==============================] - 2s 24ms/step - loss: 0.0087 - accuracy: 0.9927\n",
            "Epoch 8/10\n",
            "99/99 [==============================] - 2s 24ms/step - loss: 0.0089 - accuracy: 0.9940\n",
            "Epoch 9/10\n",
            "99/99 [==============================] - 2s 24ms/step - loss: 0.0080 - accuracy: 0.9934\n",
            "Epoch 10/10\n",
            "99/99 [==============================] - 2s 24ms/step - loss: 0.0077 - accuracy: 0.9934\n"
          ],
          "name": "stdout"
        },
        {
          "output_type": "execute_result",
          "data": {
            "text/plain": [
              "<tensorflow.python.keras.callbacks.History at 0x7fa54a16b6a0>"
            ]
          },
          "metadata": {
            "tags": []
          },
          "execution_count": 23
        }
      ]
    },
    {
      "cell_type": "code",
      "metadata": {
        "colab_type": "code",
        "id": "RAvjCQN53x8h",
        "colab": {
          "base_uri": "https://localhost:8080/",
          "height": 87
        },
        "outputId": "f82b38fb-67ea-4677-9dcb-3ac07b3e0c3c"
      },
      "source": [
        "predictions = [round(value[0]) for value in model.predict(X_test)]\n",
        "print(accuracy_score(predictions, y_test))\n",
        "print(f1_score(predictions, y_test))\n",
        "print(confusion_matrix(predictions, y_test))"
      ],
      "execution_count": 24,
      "outputs": [
        {
          "output_type": "stream",
          "text": [
            "0.6171735241502684\n",
            "0.5523012552301255\n",
            "[[213 104]\n",
            " [110 132]]\n"
          ],
          "name": "stdout"
        }
      ]
    },
    {
      "cell_type": "markdown",
      "metadata": {
        "id": "VRe_bBclDSgA",
        "colab_type": "text"
      },
      "source": [
        "### Multiple Decreasing Dense Layers: Model 1\n"
      ]
    },
    {
      "cell_type": "code",
      "metadata": {
        "colab_type": "code",
        "id": "NrKG5vqzissL",
        "colab": {
          "base_uri": "https://localhost:8080/",
          "height": 424
        },
        "outputId": "c3b215a9-b57f-4f58-bead-8ddf2733718a"
      },
      "source": [
        "model = keras.models.Sequential([\n",
        "    tf.keras.layers.Dense(8260, activation='relu', input_shape=[8260]),\n",
        "    tf.keras.layers.Dense(4130, activation='relu'),\n",
        "    tf.keras.layers.Dense(500, activation='relu'),\n",
        "    tf.keras.layers.Dense(50, activation='relu'),\n",
        "    tf.keras.layers.Dense(1, activation='sigmoid')\n",
        "])\n",
        "\n",
        "model.compile(optimizer = RMSprop(lr = 0.001), loss = 'binary_crossentropy', metrics=['accuracy'])\n",
        "model.fit(X_train, y_train, epochs = 10)"
      ],
      "execution_count": null,
      "outputs": [
        {
          "output_type": "stream",
          "text": [
            "Epoch 1/10\n",
            " 1/94 [..............................] - ETA: 3s - loss: 0.6911 - accuracy: 0.5000WARNING:tensorflow:Callbacks method `on_train_batch_end` is slow compared to the batch time (batch time: 0.0099s vs `on_train_batch_end` time: 0.0389s). Check your callbacks.\n",
            "94/94 [==============================] - 5s 48ms/step - loss: 0.7815 - accuracy: 0.5930\n",
            "Epoch 2/10\n",
            "94/94 [==============================] - 4s 48ms/step - loss: 0.3349 - accuracy: 0.8711\n",
            "Epoch 3/10\n",
            "94/94 [==============================] - 5s 48ms/step - loss: 0.1069 - accuracy: 0.9715\n",
            "Epoch 4/10\n",
            "94/94 [==============================] - 5s 48ms/step - loss: 0.0550 - accuracy: 0.9889\n",
            "Epoch 5/10\n",
            "94/94 [==============================] - 4s 48ms/step - loss: 0.0309 - accuracy: 0.9879\n",
            "Epoch 6/10\n",
            "94/94 [==============================] - 5s 48ms/step - loss: 0.0200 - accuracy: 0.9913\n",
            "Epoch 7/10\n",
            "94/94 [==============================] - 4s 48ms/step - loss: 0.0496 - accuracy: 0.9883\n",
            "Epoch 8/10\n",
            "94/94 [==============================] - 4s 47ms/step - loss: 0.0373 - accuracy: 0.9909\n",
            "Epoch 9/10\n",
            "94/94 [==============================] - 4s 48ms/step - loss: 0.0340 - accuracy: 0.9916\n",
            "Epoch 10/10\n",
            "94/94 [==============================] - 4s 48ms/step - loss: 0.0388 - accuracy: 0.9889\n"
          ],
          "name": "stdout"
        },
        {
          "output_type": "execute_result",
          "data": {
            "text/plain": [
              "<tensorflow.python.keras.callbacks.History at 0x7fa9b5f05780>"
            ]
          },
          "metadata": {
            "tags": []
          },
          "execution_count": 15
        }
      ]
    },
    {
      "cell_type": "code",
      "metadata": {
        "colab_type": "code",
        "id": "aZzgpdWKi98K",
        "colab": {
          "base_uri": "https://localhost:8080/",
          "height": 87
        },
        "outputId": "130ca59a-3761-4a50-9dab-b89e47b45681"
      },
      "source": [
        "from sklearn.metrics import confusion_matrix, accuracy_score, f1_score\n",
        "\n",
        "predictions = [round(value[0]) for value in model.predict(X_test, batch_size=10)]\n",
        "print(accuracy_score(predictions, y_test))\n",
        "print(f1_score(predictions, y_test))\n",
        "print(confusion_matrix(predictions, y_test))"
      ],
      "execution_count": null,
      "outputs": [
        {
          "output_type": "stream",
          "text": [
            "0.6367292225201072\n",
            "0.5849923430321592\n",
            "[[284 135]\n",
            " [136 191]]\n"
          ],
          "name": "stdout"
        }
      ]
    },
    {
      "cell_type": "markdown",
      "metadata": {
        "id": "ZwUbb7tADoc-",
        "colab_type": "text"
      },
      "source": [
        "### Multiple Decreasing Dense Layers: Model 2"
      ]
    },
    {
      "cell_type": "code",
      "metadata": {
        "id": "GjnMJjbNReXk",
        "colab_type": "code",
        "colab": {
          "base_uri": "https://localhost:8080/",
          "height": 424
        },
        "outputId": "23bb0450-201e-40ee-ad12-387c81eecee4"
      },
      "source": [
        "model = keras.models.Sequential([\n",
        "    tf.keras.layers.Dense(8260, activation = 'relu', input_shape=[8260]),\n",
        "    tf.keras.layers.Dense(4130, activation='relu'),\n",
        "    tf.keras.layers.Dense(1000, activation='relu'),\n",
        "    tf.keras.layers.Dense(100, activation='relu'),\n",
        "    tf.keras.layers.Dense(1, activation='sigmoid')\n",
        "])\n",
        "\n",
        "model.compile(optimizer = RMSprop(lr = 0.001), loss = 'binary_crossentropy', metrics=['accuracy'])\n",
        "model.fit(X_train, y_train, epochs = 10)"
      ],
      "execution_count": null,
      "outputs": [
        {
          "output_type": "stream",
          "text": [
            "Epoch 1/10\n",
            " 2/94 [..............................] - ETA: 4s - loss: 3.6424 - accuracy: 0.4844WARNING:tensorflow:Callbacks method `on_train_batch_end` is slow compared to the batch time (batch time: 0.0130s vs `on_train_batch_end` time: 0.0388s). Check your callbacks.\n",
            "94/94 [==============================] - 5s 48ms/step - loss: 0.7347 - accuracy: 0.5869\n",
            "Epoch 2/10\n",
            "94/94 [==============================] - 5s 48ms/step - loss: 0.3502 - accuracy: 0.8664\n",
            "Epoch 3/10\n",
            "94/94 [==============================] - 5s 48ms/step - loss: 0.0953 - accuracy: 0.9772\n",
            "Epoch 4/10\n",
            "94/94 [==============================] - 5s 48ms/step - loss: 0.0658 - accuracy: 0.9839\n",
            "Epoch 5/10\n",
            "94/94 [==============================] - 5s 49ms/step - loss: 0.0619 - accuracy: 0.9879\n",
            "Epoch 6/10\n",
            "94/94 [==============================] - 5s 49ms/step - loss: 0.0488 - accuracy: 0.9879\n",
            "Epoch 7/10\n",
            "94/94 [==============================] - 5s 48ms/step - loss: 0.0352 - accuracy: 0.9916\n",
            "Epoch 8/10\n",
            "94/94 [==============================] - 5s 48ms/step - loss: 0.0514 - accuracy: 0.9812\n",
            "Epoch 9/10\n",
            "94/94 [==============================] - 5s 48ms/step - loss: 0.0415 - accuracy: 0.9883\n",
            "Epoch 10/10\n",
            "94/94 [==============================] - 5s 48ms/step - loss: 0.0257 - accuracy: 0.9909\n"
          ],
          "name": "stdout"
        },
        {
          "output_type": "execute_result",
          "data": {
            "text/plain": [
              "<tensorflow.python.keras.callbacks.History at 0x7fa9b5b45c18>"
            ]
          },
          "metadata": {
            "tags": []
          },
          "execution_count": 10
        }
      ]
    },
    {
      "cell_type": "code",
      "metadata": {
        "colab_type": "code",
        "id": "OTzOS1dShde2",
        "colab": {
          "base_uri": "https://localhost:8080/",
          "height": 87
        },
        "outputId": "3adcff21-07de-41d5-8733-febdb32a297e"
      },
      "source": [
        "from sklearn.metrics import confusion_matrix, accuracy_score, f1_score\n",
        "\n",
        "predictions = [round(value[0]) for value in model.predict(X_test, batch_size=10)]\n",
        "print(accuracy_score(predictions, y_test))\n",
        "print(f1_score(predictions, y_test))\n",
        "print(confusion_matrix(predictions, y_test))"
      ],
      "execution_count": null,
      "outputs": [
        {
          "output_type": "stream",
          "text": [
            "0.6407506702412868\n",
            "0.6047197640117994\n",
            "[[273 121]\n",
            " [147 205]]\n"
          ],
          "name": "stdout"
        }
      ]
    },
    {
      "cell_type": "markdown",
      "metadata": {
        "id": "5VpBQRPXDvzz",
        "colab_type": "text"
      },
      "source": [
        "### 1000 Hidden Layer Nodes to Output"
      ]
    },
    {
      "cell_type": "code",
      "metadata": {
        "colab_type": "code",
        "id": "xtB33yFVho7x",
        "colab": {
          "base_uri": "https://localhost:8080/",
          "height": 424
        },
        "outputId": "33589c1b-0596-4b82-afe3-874babf19453"
      },
      "source": [
        "model = keras.models.Sequential([\n",
        "    tf.keras.layers.Dense(8260, activation='relu', input_shape=[8260]),\n",
        "    tf.keras.layers.Dense(8260, activation='relu'),\n",
        "    tf.keras.layers.Dense(4130, activation='relu'),\n",
        "    tf.keras.layers.Dense(1000, activation='relu'),\n",
        "    tf.keras.layers.Dense(1, activation='sigmoid')\n",
        "])\n",
        "\n",
        "model.compile(optimizer = RMSprop(lr = 0.001), loss = 'binary_crossentropy', metrics=['accuracy'])\n",
        "model.fit(X_train, y_train, epochs = 10)"
      ],
      "execution_count": null,
      "outputs": [
        {
          "output_type": "stream",
          "text": [
            "Epoch 1/10\n",
            " 2/94 [..............................] - ETA: 6s - loss: 16.4382 - accuracy: 0.4219WARNING:tensorflow:Callbacks method `on_train_batch_end` is slow compared to the batch time (batch time: 0.0122s vs `on_train_batch_end` time: 0.0659s). Check your callbacks.\n",
            "94/94 [==============================] - 7s 79ms/step - loss: 1.3309 - accuracy: 0.5799\n",
            "Epoch 2/10\n",
            "94/94 [==============================] - 7s 79ms/step - loss: 0.4031 - accuracy: 0.8537\n",
            "Epoch 3/10\n",
            "94/94 [==============================] - 7s 79ms/step - loss: 0.1155 - accuracy: 0.9695\n",
            "Epoch 4/10\n",
            "94/94 [==============================] - 7s 79ms/step - loss: 0.0750 - accuracy: 0.9852\n",
            "Epoch 5/10\n",
            "94/94 [==============================] - 7s 79ms/step - loss: 0.0640 - accuracy: 0.9869\n",
            "Epoch 6/10\n",
            "94/94 [==============================] - 7s 79ms/step - loss: 0.0580 - accuracy: 0.9849\n",
            "Epoch 7/10\n",
            "94/94 [==============================] - 7s 79ms/step - loss: 0.0308 - accuracy: 0.9916\n",
            "Epoch 8/10\n",
            "94/94 [==============================] - 7s 79ms/step - loss: 0.0367 - accuracy: 0.9903\n",
            "Epoch 9/10\n",
            "94/94 [==============================] - 7s 79ms/step - loss: 0.0362 - accuracy: 0.9923\n",
            "Epoch 10/10\n",
            "94/94 [==============================] - 7s 79ms/step - loss: 0.0346 - accuracy: 0.9893\n"
          ],
          "name": "stdout"
        },
        {
          "output_type": "execute_result",
          "data": {
            "text/plain": [
              "<tensorflow.python.keras.callbacks.History at 0x7fa9b78b46a0>"
            ]
          },
          "metadata": {
            "tags": []
          },
          "execution_count": 12
        }
      ]
    },
    {
      "cell_type": "code",
      "metadata": {
        "colab_type": "code",
        "id": "B8IT4mOQikeG",
        "colab": {
          "base_uri": "https://localhost:8080/",
          "height": 87
        },
        "outputId": "d7093107-952f-4eef-ded5-099718bda7ec"
      },
      "source": [
        "from sklearn.metrics import confusion_matrix, accuracy_score, f1_score\n",
        "\n",
        "predictions = [round(value[0]) for value in model.predict(X_test, batch_size=10)]\n",
        "print(accuracy_score(predictions, y_test))\n",
        "print(f1_score(predictions, y_test))\n",
        "print(confusion_matrix(predictions, y_test))"
      ],
      "execution_count": null,
      "outputs": [
        {
          "output_type": "stream",
          "text": [
            "0.6434316353887399\n",
            "0.6144927536231884\n",
            "[[268 114]\n",
            " [152 212]]\n"
          ],
          "name": "stdout"
        }
      ]
    }
  ]
}